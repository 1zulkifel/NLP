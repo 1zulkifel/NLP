{
 "cells": [
  {
   "cell_type": "markdown",
   "metadata": {},
   "source": [
    "# Tokenization \n",
    "\n",
    " i  love my  dog\n",
    " \n",
    "001 002  003 004\n",
    "\n",
    "i  love my  cat\n",
    "\n",
    "001 002  003 005\n",
    "\n",
    "001 002  003 004\n",
    "\n",
    "001 002  003 005"
   ]
  },
  {
   "cell_type": "code",
   "execution_count": 2,
   "metadata": {},
   "outputs": [
    {
     "name": "stdout",
     "output_type": "stream",
     "text": [
      "{'my': 1, 'love': 2, 'i': 3, 'dog': 4, 'you': 5, 'cat': 6, 'friend': 7, 'do': 8, 'think': 9, 'is': 10, 'amazing': 11}\n",
      "[[3, 2, 1, 4], [3, 2, 1, 6], [3, 2, 1, 7], [8, 5, 9, 1, 4, 10, 11], [5, 2, 1, 4]]\n"
     ]
    }
   ],
   "source": [
    "import tensorflow as tf\n",
    "from tensorflow import keras\n",
    "from tensorflow.keras.preprocessing.text import Tokenizer\n",
    "\n",
    "sentences = ['i love my dog', 'i love my cat', 'i love my friend','do you think my dog is amazing?',\n",
    "             'you love my dog']\n",
    "tokenizer= Tokenizer (num_words=100)\n",
    "tokenizer.fit_on_texts(sentences)\n",
    "word_index=tokenizer.word_index\n",
    "sequences=tokenizer.texts_to_sequences(sentences)\n",
    "\n",
    "print(word_index)\n",
    "print(sequences)\n",
    "\n"
   ]
  },
  {
   "cell_type": "markdown",
   "metadata": {},
   "source": [
    "# Sequencing - Turning sentences into data "
   ]
  },
  {
   "cell_type": "code",
   "execution_count": 1,
   "metadata": {},
   "outputs": [
    {
     "name": "stdout",
     "output_type": "stream",
     "text": [
      "\n",
      "word_index= {'<OOV>': 1, 'my': 2, 'love': 3, 'dog': 4, 'i': 5, 'you': 6, 'cat': 7, 'do': 8, 'think': 9, 'is': 10, 'amazing': 11}\n",
      "\n",
      "sequnce= [[5, 3, 2, 4], [5, 3, 2, 7], [6, 3, 2, 4], [8, 6, 9, 2, 4, 10, 11]]\n",
      "\n",
      "pad_sequences= [[ 0  0  0  5  3  2  4]\n",
      " [ 0  0  0  5  3  2  7]\n",
      " [ 0  0  0  6  3  2  4]\n",
      " [ 8  6  9  2  4 10 11]]\n",
      "\n",
      "Test Sequence =  [[5, 1, 3, 2, 4], [2, 4, 1, 2, 1]]\n",
      "\n",
      "Padded Test Sequence: \n",
      "[[0 0 0 0 0 5 1 3 2 4]\n",
      " [0 0 0 0 0 2 4 1 2 1]]\n"
     ]
    }
   ],
   "source": [
    "import tensorflow as tf\n",
    "from tensorflow import keras\n",
    "from tensorflow.keras.preprocessing.text import Tokenizer\n",
    "from tensorflow.keras.preprocessing.sequence import pad_sequences\n",
    "sentences = [\n",
    "    'I love my dog',\n",
    "    'I love my cat',\n",
    "    'You love my dog!',\n",
    "    'Do you think my dog is amazing?'\n",
    "]\n",
    "tokenizer=Tokenizer(num_words=100,oov_token=\"<OOV>\")\n",
    "tokenizer.fit_on_texts(sentences)\n",
    "word_index=tokenizer.word_index\n",
    "sequence=tokenizer.texts_to_sequences(sentences)\n",
    "padded=pad_sequences(sequence,maxlen=7)\n",
    "\n",
    "print('\\nword_index=',word_index)\n",
    "print('\\nsequnce=',sequence)\n",
    "print('\\npad_sequences=',padded)\n",
    "\n",
    "# Try with words that the tokenizer wasn't fit to\n",
    "test_data = [\n",
    "    'i really love my dog',\n",
    "    'my dog loves my manatee'\n",
    "]\n",
    "\n",
    "test_seq = tokenizer.texts_to_sequences(test_data)\n",
    "print(\"\\nTest Sequence = \", test_seq)\n",
    "\n",
    "padded = pad_sequences(test_seq, maxlen=10)\n",
    "print(\"\\nPadded Test Sequence: \")\n",
    "print(padded)"
   ]
  },
  {
   "cell_type": "markdown",
   "metadata": {},
   "source": [
    "# Training a model to recognize sentiment in text"
   ]
  },
  {
   "cell_type": "code",
   "execution_count": 3,
   "metadata": {},
   "outputs": [],
   "source": [
    "\n",
    "vocab_size=10000\n",
    "embedding_dim=16\n",
    "max_length=100\n",
    "trunc_type='post'\n",
    "padding_type='post'\n",
    "oov_tok='<OOV>'\n",
    "training_size=20000\n"
   ]
  },
  {
   "cell_type": "code",
   "execution_count": 4,
   "metadata": {},
   "outputs": [
    {
     "name": "stdout",
     "output_type": "stream",
     "text": [
      "--2020-10-19 15:38:34--  https://storage.googleapis.com/laurencemoroney-blog.appspot.com/sarcasm.json\n",
      "Resolving storage.googleapis.com (storage.googleapis.com)... 172.217.21.48, 172.217.19.16, 172.217.19.176, ...\n",
      "Connecting to storage.googleapis.com (storage.googleapis.com)|172.217.21.48|:443... connected.\n",
      "HTTP request sent, awaiting response... 200 OK\n",
      "Length: 5643545 (5.4M) [application/json]\n",
      "Saving to: ‘/tmp/sarcasm.json’\n",
      "\n",
      "/tmp/sarcasm.json   100%[===================>]   5.38M   536KB/s    in 14s     \n",
      "\n",
      "2020-10-19 15:38:49 (388 KB/s) - ‘/tmp/sarcasm.json’ saved [5643545/5643545]\n",
      "\n"
     ]
    }
   ],
   "source": [
    "!wget --no-check-certificate \\\n",
    "    https://storage.googleapis.com/laurencemoroney-blog.appspot.com/sarcasm.json \\\n",
    "    -O /tmp/sarcasm.json"
   ]
  },
  {
   "cell_type": "code",
   "execution_count": 13,
   "metadata": {},
   "outputs": [],
   "source": [
    "import json\n",
    "import tensorflow as tf\n",
    "import requests\n",
    "import numpy as np\n",
    "import pandas as pd\n",
    "from tensorflow.keras.preprocessing.text import Tokenizer\n",
    "from tensorflow.keras.preprocessing.sequence import pad_sequences\n"
   ]
  },
  {
   "cell_type": "code",
   "execution_count": 8,
   "metadata": {},
   "outputs": [],
   "source": [
    "import json\n",
    "\n",
    "with open(\"/tmp/sarcasm.json\",\"r\") as f:\n",
    "    datastore=json.load(f)\n",
    "sentences=[]\n",
    "labels=[]\n",
    "for item in datastore:\n",
    "    sentences.append(item['headline'])\n",
    "    labels.append(item['is_sarcastic'])\n",
    "    \n"
   ]
  },
  {
   "cell_type": "code",
   "execution_count": 9,
   "metadata": {},
   "outputs": [],
   "source": [
    "training_sentences=sentences[0:training_size]\n",
    "testing_sentences=sentences[training_size:]\n",
    "training_labels=labels[0:training_size]\n",
    "testing_labels=labels[training_size:]"
   ]
  },
  {
   "cell_type": "code",
   "execution_count": 23,
   "metadata": {},
   "outputs": [],
   "source": [
    "tokenizer=Tokenizer(num_words=vocab_size,oov_token=oov_tok)\n",
    "tokenizer.fit_on_texts(training_sentences)\n",
    "\n",
    "word_index=tokenizer.word_index\n",
    "training_sequences = tokenizer.texts_to_sequences(training_sentences)\n",
    "training_padded = pad_sequences(training_sequences, maxlen=max_length, padding=padding_type,truncating=trunc_type)\n",
    "\n",
    "testing_sequences=tokenizer.texts_to_sequences(testing_sentences)\n",
    "testing_padded=pad_sequences(testing_sequences,maxlen=max_length,padding=padding_type,truncating=trunc_type)"
   ]
  },
  {
   "cell_type": "code",
   "execution_count": 24,
   "metadata": {},
   "outputs": [],
   "source": [
    "\n",
    "training_padded = np.array(training_padded)\n",
    "training_labels = np.array(training_labels)\n",
    "testing_padded = np.array(testing_padded)\n",
    "testing_labels = np.array(testing_labels)"
   ]
  },
  {
   "cell_type": "code",
   "execution_count": 32,
   "metadata": {},
   "outputs": [
    {
     "name": "stdout",
     "output_type": "stream",
     "text": [
      "Model: \"sequential_1\"\n",
      "_________________________________________________________________\n",
      "Layer (type)                 Output Shape              Param #   \n",
      "=================================================================\n",
      "embedding_3 (Embedding)      (None, 100, 16)           160000    \n",
      "_________________________________________________________________\n",
      "global_average_pooling1d_2 ( (None, 16)                0         \n",
      "_________________________________________________________________\n",
      "dense_2 (Dense)              (None, 24)                408       \n",
      "_________________________________________________________________\n",
      "dense_3 (Dense)              (None, 1)                 25        \n",
      "=================================================================\n",
      "Total params: 160,433\n",
      "Trainable params: 160,433\n",
      "Non-trainable params: 0\n",
      "_________________________________________________________________\n"
     ]
    }
   ],
   "source": [
    "# creating model\n",
    "model=tf.keras.Sequential([\n",
    "    tf.keras.layers.Embedding(vocab_size,embedding_dim,input_length=max_length),\n",
    "    tf.keras.layers.GlobalAveragePooling1D(),\n",
    "    tf.keras.layers.Dense(24,activation='relu'),\n",
    "    tf.keras.layers.Dense(1,activation='sigmoid')])\n",
    "model.compile(loss='binary_crossentropy',optimizer='adam',metrics=['accuracy'])\n",
    "model.summary()"
   ]
  },
  {
   "cell_type": "code",
   "execution_count": 37,
   "metadata": {},
   "outputs": [
    {
     "name": "stdout",
     "output_type": "stream",
     "text": [
      "Train on 20000 samples, validate on 6709 samples\n",
      "Epoch 1/30\n",
      "20000/20000 - 2s - loss: 0.0222 - accuracy: 0.9934 - val_loss: 1.1699 - val_accuracy: 0.8106\n",
      "Epoch 2/30\n",
      "20000/20000 - 2s - loss: 0.0179 - accuracy: 0.9951 - val_loss: 1.2033 - val_accuracy: 0.8089\n",
      "Epoch 3/30\n",
      "20000/20000 - 2s - loss: 0.0178 - accuracy: 0.9952 - val_loss: 1.2162 - val_accuracy: 0.8091\n",
      "Epoch 4/30\n",
      "20000/20000 - 2s - loss: 0.0167 - accuracy: 0.9955 - val_loss: 1.3132 - val_accuracy: 0.8004\n",
      "Epoch 5/30\n",
      "20000/20000 - 2s - loss: 0.0155 - accuracy: 0.9960 - val_loss: 1.2855 - val_accuracy: 0.8062\n",
      "Epoch 6/30\n",
      "20000/20000 - 3s - loss: 0.0168 - accuracy: 0.9952 - val_loss: 1.3265 - val_accuracy: 0.8062\n",
      "Epoch 7/30\n",
      "20000/20000 - 2s - loss: 0.0143 - accuracy: 0.9958 - val_loss: 1.3626 - val_accuracy: 0.8055\n",
      "Epoch 8/30\n",
      "20000/20000 - 2s - loss: 0.0135 - accuracy: 0.9965 - val_loss: 1.3919 - val_accuracy: 0.8058\n",
      "Epoch 9/30\n",
      "20000/20000 - 2s - loss: 0.0121 - accuracy: 0.9966 - val_loss: 1.4540 - val_accuracy: 0.8055\n",
      "Epoch 10/30\n",
      "20000/20000 - 2s - loss: 0.0112 - accuracy: 0.9969 - val_loss: 1.4863 - val_accuracy: 0.8049\n",
      "Epoch 11/30\n",
      "20000/20000 - 2s - loss: 0.0097 - accuracy: 0.9977 - val_loss: 1.5363 - val_accuracy: 0.8050\n",
      "Epoch 12/30\n",
      "20000/20000 - 2s - loss: 0.0111 - accuracy: 0.9966 - val_loss: 1.6639 - val_accuracy: 0.8001\n",
      "Epoch 13/30\n",
      "20000/20000 - 2s - loss: 0.0093 - accuracy: 0.9974 - val_loss: 1.6379 - val_accuracy: 0.8043\n",
      "Epoch 14/30\n",
      "20000/20000 - 2s - loss: 0.0106 - accuracy: 0.9967 - val_loss: 1.6355 - val_accuracy: 0.8058\n",
      "Epoch 15/30\n",
      "20000/20000 - 2s - loss: 0.0085 - accuracy: 0.9976 - val_loss: 1.6736 - val_accuracy: 0.8055\n",
      "Epoch 16/30\n",
      "20000/20000 - 2s - loss: 0.0083 - accuracy: 0.9976 - val_loss: 1.7128 - val_accuracy: 0.8040\n",
      "Epoch 17/30\n",
      "20000/20000 - 3s - loss: 0.0088 - accuracy: 0.9972 - val_loss: 1.7773 - val_accuracy: 0.8055\n",
      "Epoch 18/30\n",
      "20000/20000 - 3s - loss: 0.0077 - accuracy: 0.9974 - val_loss: 1.7950 - val_accuracy: 0.8049\n",
      "Epoch 19/30\n",
      "20000/20000 - 3s - loss: 0.0073 - accuracy: 0.9977 - val_loss: 1.8704 - val_accuracy: 0.8044\n",
      "Epoch 20/30\n",
      "20000/20000 - 2s - loss: 0.0071 - accuracy: 0.9980 - val_loss: 1.9064 - val_accuracy: 0.8012\n",
      "Epoch 21/30\n",
      "20000/20000 - 2s - loss: 0.0071 - accuracy: 0.9973 - val_loss: 1.9448 - val_accuracy: 0.8041\n",
      "Epoch 22/30\n",
      "20000/20000 - 2s - loss: 0.0073 - accuracy: 0.9979 - val_loss: 1.9997 - val_accuracy: 0.8032\n",
      "Epoch 23/30\n",
      "20000/20000 - 3s - loss: 0.0049 - accuracy: 0.9986 - val_loss: 2.1448 - val_accuracy: 0.7986\n",
      "Epoch 24/30\n",
      "20000/20000 - 2s - loss: 0.0071 - accuracy: 0.9975 - val_loss: 2.1128 - val_accuracy: 0.8022\n",
      "Epoch 25/30\n",
      "20000/20000 - 2s - loss: 0.0057 - accuracy: 0.9982 - val_loss: 2.1111 - val_accuracy: 0.8031\n",
      "Epoch 26/30\n",
      "20000/20000 - 2s - loss: 0.0059 - accuracy: 0.9980 - val_loss: 2.1307 - val_accuracy: 0.8024\n",
      "Epoch 27/30\n",
      "20000/20000 - 2s - loss: 0.0051 - accuracy: 0.9985 - val_loss: 2.1727 - val_accuracy: 0.8037\n",
      "Epoch 28/30\n",
      "20000/20000 - 2s - loss: 0.0046 - accuracy: 0.9986 - val_loss: 2.2080 - val_accuracy: 0.8043\n",
      "Epoch 29/30\n",
      "20000/20000 - 2s - loss: 0.0058 - accuracy: 0.9980 - val_loss: 2.2974 - val_accuracy: 0.8024\n",
      "Epoch 30/30\n",
      "20000/20000 - 2s - loss: 0.0043 - accuracy: 0.9984 - val_loss: 2.3597 - val_accuracy: 0.8015\n"
     ]
    }
   ],
   "source": [
    "num_epochs=30\n",
    "history=model.fit(training_padded,training_labels,epochs=num_epochs,validation_data=(testing_padded,testing_labels),verbose=2)"
   ]
  },
  {
   "cell_type": "code",
   "execution_count": 43,
   "metadata": {},
   "outputs": [
    {
     "data": {
      "image/png": "[encoded data removed]",
      "text/plain": [
       "<Figure size 432x288 with 1 Axes>"
      ]
     },
     "metadata": {
      "needs_background": "light"
     },
     "output_type": "display_data"
    },
    {
     "data": {
      "image/png": "[encoded data removed]",
      "text/plain": [
       "<Figure size 432x288 with 1 Axes>"
      ]
     },
     "metadata": {
      "needs_background": "light"
     },
     "output_type": "display_data"
    }
   ],
   "source": [
    "import matplotlib.pyplot as plt\n",
    "\n",
    "def plot_graph(history,string):\n",
    "    plt.plot(history.history[string])\n",
    "    plt.plot(history,history['val_'+string])\n",
    "    plt.xlabel('Epochs')\n",
    "    plt.ylabel(string)\n",
    "    plt.legend([string,'val'+string])\n",
    "    plt.show()\n",
    "    \n",
    "plot_graphs(history, \"accuracy\")\n",
    "plot_graphs(history,\"loss\")"
   ]
  },
  {
   "cell_type": "markdown",
   "metadata": {},
   "source": [
    "# Decoding Sentences\n"
   ]
  },
  {
   "cell_type": "code",
   "execution_count": 45,
   "metadata": {},
   "outputs": [
    {
     "name": "stdout",
     "output_type": "stream",
     "text": [
      "former <OOV> store clerk sues over secret 'black <OOV> for minority shoppers ? ? ? ? ? ? ? ? ? ? ? ? ? ? ? ? ? ? ? ? ? ? ? ? ? ? ? ? ? ? ? ? ? ? ? ? ? ? ? ? ? ? ? ? ? ? ? ? ? ? ? ? ? ? ? ? ? ? ? ? ? ? ? ? ? ? ? ? ? ? ? ? ? ? ? ? ? ? ? ? ? ? ? ? ? ? ? ?\n",
      "mom starting to fear son's web series closest thing she will have to grandchild\n",
      "1\n"
     ]
    }
   ],
   "source": [
    "reverse_word_index=dict([(value,key) for (key,value) in word_index.items()])\n",
    "def decode_sentence(text):\n",
    "    return ' '.join([reverse_word_index.get(i,'?') for i in text])\n",
    "print(decode_sentence(training_padded[0]))\n",
    "print(training_sentences[2])\n",
    "print(labels[2])"
   ]
  },
  {
   "cell_type": "code",
   "execution_count": 46,
   "metadata": {},
   "outputs": [
    {
     "name": "stdout",
     "output_type": "stream",
     "text": [
      "(10000, 16)\n"
     ]
    }
   ],
   "source": [
    "e = model.layers[0]\n",
    "weights = e.get_weights()[0]\n",
    "print(weights.shape) # "
   ]
  },
  {
   "cell_type": "code",
   "execution_count": 47,
   "metadata": {},
   "outputs": [],
   "source": [
    "import io\n",
    "\n",
    "out_v = io.open('vecs.tsv', 'w', encoding='utf-8')\n",
    "out_m = io.open('meta.tsv', 'w', encoding='utf-8')\n",
    "for word_num in range(1, vocab_size):\n",
    "  word = reverse_word_index[word_num]\n",
    "  embeddings = weights[word_num]\n",
    "  out_m.write(word + \"\\n\")\n",
    "  out_v.write('\\t'.join([str(x) for x in embeddings]) + \"\\n\")\n",
    "out_v.close()\n",
    "out_m.close()"
   ]
  },
  {
   "cell_type": "code",
   "execution_count": 48,
   "metadata": {},
   "outputs": [],
   "source": [
    "try:\n",
    "  from google.colab import files\n",
    "except ImportError:\n",
    "  pass\n",
    "else:\n",
    "  files.download('vecs.tsv')\n",
    "  files.download('meta.tsv')"
   ]
  },
  {
   "cell_type": "code",
   "execution_count": 49,
   "metadata": {},
   "outputs": [
    {
     "name": "stdout",
     "output_type": "stream",
     "text": [
      "[[9.9950278e-01]\n",
      " [2.2121608e-12]]\n"
     ]
    }
   ],
   "source": [
    "sentence = [\"granny starting to fear spiders in the garden might be real\", \"game of thrones season finale showing this sunday night\"]\n",
    "sequences = tokenizer.texts_to_sequences(sentence)\n",
    "padded = pad_sequences(sequences, maxlen=max_length, padding=padding_type, truncating=trunc_type)\n",
    "print(model.predict(padded))"
   ]
  },
  {
   "cell_type": "code",
   "execution_count": null,
   "metadata": {},
   "outputs": [],
   "source": []
  }
 ],
 "metadata": {
  "kernelspec": {
   "display_name": "Python 3",
   "language": "python",
   "name": "python3"
  },
  "language_info": {
   "codemirror_mode": {
    "name": "ipython",
    "version": 3
   },
   "file_extension": ".py",
   "mimetype": "text/x-python",
   "name": "python",
   "nbconvert_exporter": "python",
   "pygments_lexer": "ipython3",
   "version": "3.7.4"
  }
 },
 "nbformat": 4,
 "nbformat_minor": 2
}
